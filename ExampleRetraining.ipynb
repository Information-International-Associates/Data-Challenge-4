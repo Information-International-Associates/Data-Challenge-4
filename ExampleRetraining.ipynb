{
 "cells": [
  {
   "cell_type": "code",
   "execution_count": 1,
   "metadata": {},
   "outputs": [],
   "source": [
    "import pandas as pd\n",
    "import numpy as np\n",
    "from sklearn.metrics import recall_score, precision_score, f1_score, log_loss\n",
    "import matplotlib.pyplot as plt\n",
    "%matplotlib inline\n",
    "\n",
    "\n",
    "import warnings\n",
    "warnings.filterwarnings('ignore')"
   ]
  },
  {
   "cell_type": "markdown",
   "metadata": {},
   "source": [
    "## Autoreload\n",
    "https://ipython.org/ipython-doc/3/config/extensions/autoreload.html"
   ]
  },
  {
   "cell_type": "code",
   "execution_count": 2,
   "metadata": {},
   "outputs": [],
   "source": [
    "%load_ext autoreload"
   ]
  },
  {
   "cell_type": "code",
   "execution_count": 3,
   "metadata": {},
   "outputs": [],
   "source": [
    "%autoreload 1"
   ]
  },
  {
   "cell_type": "code",
   "execution_count": 4,
   "metadata": {},
   "outputs": [
    {
     "name": "stdout",
     "output_type": "stream",
     "text": [
      "Modules to reload:\n",
      "\n",
      "\n",
      "Modules to skip:\n",
      "\n"
     ]
    }
   ],
   "source": [
    "%aimport"
   ]
  },
  {
   "cell_type": "code",
   "execution_count": 5,
   "metadata": {},
   "outputs": [],
   "source": [
    "%aimport RUL_Model"
   ]
  },
  {
   "cell_type": "code",
   "execution_count": 6,
   "metadata": {},
   "outputs": [
    {
     "name": "stdout",
     "output_type": "stream",
     "text": [
      "Modules to reload:\n",
      "RUL_Model\n",
      "\n",
      "Modules to skip:\n",
      "\n"
     ]
    }
   ],
   "source": [
    "%aimport"
   ]
  },
  {
   "cell_type": "code",
   "execution_count": 7,
   "metadata": {},
   "outputs": [],
   "source": [
    "def plot_predictions(rul_filename, predictions):\n",
    "    rul_true = pd.read_csv(rul_filename, sep=\" \", header=None)\n",
    "    rul_true.columns = ['True', '']\n",
    "    rul_true['Predicted'] = predictions\n",
    "    rul_true = rul_true[['True', 'Predicted']]\n",
    "\n",
    "    plt.figure(figsize=(7,4))\n",
    "    plt.scatter(rul_true['True'], rul_true['Predicted'])\n",
    "    plt.ylabel('Predicted RUL')\n",
    "    plt.xlabel('True RUL')\n",
    "    plt.title('Comparing Model Projections to Baseline')\n",
    "\n",
    "def run(file_number):\n",
    "    test_df = pd.read_csv('test_FD00{}.txt'.format(file_number), sep=\" \", header=None)\n",
    "    test_df = RUL_Model.preprocess_and_predict(test_df)\n",
    "    predictions = RUL_Model.summarize_predictions_by_unit(test_df)\n",
    "    print(\"Number of predictions:\", len(predictions))\n",
    "    plot_predictions('RUL_FD00{}.txt'.format(file_number), predictions=predictions)"
   ]
  },
  {
   "cell_type": "markdown",
   "metadata": {},
   "source": [
    "## Baseline Saved Model"
   ]
  },
  {
   "cell_type": "code",
   "execution_count": 3,
   "metadata": {},
   "outputs": [
    {
     "name": "stdout",
     "output_type": "stream",
     "text": [
      "WARNING:tensorflow:From /home/jovyan/RUL_Model.py:131: Sequential.predict_classes (from tensorflow.python.keras.engine.sequential) is deprecated and will be removed after 2021-01-01.\n",
      "Instructions for updating:\n",
      "Please use instead:* `np.argmax(model.predict(x), axis=-1)`,   if your model does multi-class classification   (e.g. if it uses a `softmax` last-layer activation).* `(model.predict(x) > 0.5).astype(\"int32\")`,   if your model does binary classification   (e.g. if it uses a `sigmoid` last-layer activation).\n",
      "Number of predictions: 100\n"
     ]
    },
    {
     "data": {
      "image/png": "[encoded data removed]",
      "text/plain": [
       "<Figure size 504x288 with 1 Axes>"
      ]
     },
     "metadata": {
      "needs_background": "light"
     },
     "output_type": "display_data"
    }
   ],
   "source": [
    "run(1)"
   ]
  },
  {
   "cell_type": "code",
   "execution_count": 8,
   "metadata": {},
   "outputs": [
    {
     "data": {
      "text/html": [
       "<div>\n",
       "<style scoped>\n",
       "    .dataframe tbody tr th:only-of-type {\n",
       "        vertical-align: middle;\n",
       "    }\n",
       "\n",
       "    .dataframe tbody tr th {\n",
       "        vertical-align: top;\n",
       "    }\n",
       "\n",
       "    .dataframe thead th {\n",
       "        text-align: right;\n",
       "    }\n",
       "</style>\n",
       "<table border=\"1\" class=\"dataframe\">\n",
       "  <thead>\n",
       "    <tr style=\"text-align: right;\">\n",
       "      <th></th>\n",
       "      <th>0</th>\n",
       "      <th>1</th>\n",
       "      <th>2</th>\n",
       "      <th>3</th>\n",
       "      <th>4</th>\n",
       "      <th>5</th>\n",
       "      <th>6</th>\n",
       "      <th>7</th>\n",
       "      <th>8</th>\n",
       "      <th>9</th>\n",
       "      <th>...</th>\n",
       "      <th>18</th>\n",
       "      <th>19</th>\n",
       "      <th>20</th>\n",
       "      <th>21</th>\n",
       "      <th>22</th>\n",
       "      <th>23</th>\n",
       "      <th>24</th>\n",
       "      <th>25</th>\n",
       "      <th>26</th>\n",
       "      <th>27</th>\n",
       "    </tr>\n",
       "  </thead>\n",
       "  <tbody>\n",
       "    <tr>\n",
       "      <th>0</th>\n",
       "      <td>1</td>\n",
       "      <td>1</td>\n",
       "      <td>-0.0007</td>\n",
       "      <td>-0.0004</td>\n",
       "      <td>100.0</td>\n",
       "      <td>518.67</td>\n",
       "      <td>641.82</td>\n",
       "      <td>1589.70</td>\n",
       "      <td>1400.60</td>\n",
       "      <td>14.62</td>\n",
       "      <td>...</td>\n",
       "      <td>8138.62</td>\n",
       "      <td>8.4195</td>\n",
       "      <td>0.03</td>\n",
       "      <td>392</td>\n",
       "      <td>2388</td>\n",
       "      <td>100.0</td>\n",
       "      <td>39.06</td>\n",
       "      <td>23.4190</td>\n",
       "      <td>NaN</td>\n",
       "      <td>NaN</td>\n",
       "    </tr>\n",
       "    <tr>\n",
       "      <th>1</th>\n",
       "      <td>1</td>\n",
       "      <td>2</td>\n",
       "      <td>0.0019</td>\n",
       "      <td>-0.0003</td>\n",
       "      <td>100.0</td>\n",
       "      <td>518.67</td>\n",
       "      <td>642.15</td>\n",
       "      <td>1591.82</td>\n",
       "      <td>1403.14</td>\n",
       "      <td>14.62</td>\n",
       "      <td>...</td>\n",
       "      <td>8131.49</td>\n",
       "      <td>8.4318</td>\n",
       "      <td>0.03</td>\n",
       "      <td>392</td>\n",
       "      <td>2388</td>\n",
       "      <td>100.0</td>\n",
       "      <td>39.00</td>\n",
       "      <td>23.4236</td>\n",
       "      <td>NaN</td>\n",
       "      <td>NaN</td>\n",
       "    </tr>\n",
       "    <tr>\n",
       "      <th>2</th>\n",
       "      <td>1</td>\n",
       "      <td>3</td>\n",
       "      <td>-0.0043</td>\n",
       "      <td>0.0003</td>\n",
       "      <td>100.0</td>\n",
       "      <td>518.67</td>\n",
       "      <td>642.35</td>\n",
       "      <td>1587.99</td>\n",
       "      <td>1404.20</td>\n",
       "      <td>14.62</td>\n",
       "      <td>...</td>\n",
       "      <td>8133.23</td>\n",
       "      <td>8.4178</td>\n",
       "      <td>0.03</td>\n",
       "      <td>390</td>\n",
       "      <td>2388</td>\n",
       "      <td>100.0</td>\n",
       "      <td>38.95</td>\n",
       "      <td>23.3442</td>\n",
       "      <td>NaN</td>\n",
       "      <td>NaN</td>\n",
       "    </tr>\n",
       "    <tr>\n",
       "      <th>3</th>\n",
       "      <td>1</td>\n",
       "      <td>4</td>\n",
       "      <td>0.0007</td>\n",
       "      <td>0.0000</td>\n",
       "      <td>100.0</td>\n",
       "      <td>518.67</td>\n",
       "      <td>642.35</td>\n",
       "      <td>1582.79</td>\n",
       "      <td>1401.87</td>\n",
       "      <td>14.62</td>\n",
       "      <td>...</td>\n",
       "      <td>8133.83</td>\n",
       "      <td>8.3682</td>\n",
       "      <td>0.03</td>\n",
       "      <td>392</td>\n",
       "      <td>2388</td>\n",
       "      <td>100.0</td>\n",
       "      <td>38.88</td>\n",
       "      <td>23.3739</td>\n",
       "      <td>NaN</td>\n",
       "      <td>NaN</td>\n",
       "    </tr>\n",
       "    <tr>\n",
       "      <th>4</th>\n",
       "      <td>1</td>\n",
       "      <td>5</td>\n",
       "      <td>-0.0019</td>\n",
       "      <td>-0.0002</td>\n",
       "      <td>100.0</td>\n",
       "      <td>518.67</td>\n",
       "      <td>642.37</td>\n",
       "      <td>1582.85</td>\n",
       "      <td>1406.22</td>\n",
       "      <td>14.62</td>\n",
       "      <td>...</td>\n",
       "      <td>8133.80</td>\n",
       "      <td>8.4294</td>\n",
       "      <td>0.03</td>\n",
       "      <td>393</td>\n",
       "      <td>2388</td>\n",
       "      <td>100.0</td>\n",
       "      <td>38.90</td>\n",
       "      <td>23.4044</td>\n",
       "      <td>NaN</td>\n",
       "      <td>NaN</td>\n",
       "    </tr>\n",
       "  </tbody>\n",
       "</table>\n",
       "<p>5 rows × 28 columns</p>\n",
       "</div>"
      ],
      "text/plain": [
       "   0   1       2       3      4       5       6        7        8      9   \\\n",
       "0   1   1 -0.0007 -0.0004  100.0  518.67  641.82  1589.70  1400.60  14.62   \n",
       "1   1   2  0.0019 -0.0003  100.0  518.67  642.15  1591.82  1403.14  14.62   \n",
       "2   1   3 -0.0043  0.0003  100.0  518.67  642.35  1587.99  1404.20  14.62   \n",
       "3   1   4  0.0007  0.0000  100.0  518.67  642.35  1582.79  1401.87  14.62   \n",
       "4   1   5 -0.0019 -0.0002  100.0  518.67  642.37  1582.85  1406.22  14.62   \n",
       "\n",
       "   ...       18      19    20   21    22     23     24       25  26  27  \n",
       "0  ...  8138.62  8.4195  0.03  392  2388  100.0  39.06  23.4190 NaN NaN  \n",
       "1  ...  8131.49  8.4318  0.03  392  2388  100.0  39.00  23.4236 NaN NaN  \n",
       "2  ...  8133.23  8.4178  0.03  390  2388  100.0  38.95  23.3442 NaN NaN  \n",
       "3  ...  8133.83  8.3682  0.03  392  2388  100.0  38.88  23.3739 NaN NaN  \n",
       "4  ...  8133.80  8.4294  0.03  393  2388  100.0  38.90  23.4044 NaN NaN  \n",
       "\n",
       "[5 rows x 28 columns]"
      ]
     },
     "execution_count": 8,
     "metadata": {},
     "output_type": "execute_result"
    }
   ],
   "source": [
    "train_df = pd.read_csv('train_FD001.txt', sep=\" \", header=None)\n",
    "train_df.head()"
   ]
  },
  {
   "cell_type": "markdown",
   "metadata": {},
   "source": [
    "## Demonstrating Automated Retraining"
   ]
  },
  {
   "cell_type": "code",
   "execution_count": 5,
   "metadata": {},
   "outputs": [
    {
     "name": "stdout",
     "output_type": "stream",
     "text": [
      "#id: 100\n",
      "['setting1', 'setting2', 's2', 's3', 's4', 's6', 's7', 's8', 's9', 's11', 's12', 's13', 's14', 's15', 's17', 's20', 's21']\n",
      "Epoch 1/25\n",
      "25/25 - 50s - loss: 2.5935 - accuracy: 0.1552 - val_loss: 2.5828 - val_accuracy: 0.1538\n",
      "Epoch 2/25\n",
      "25/25 - 49s - loss: 2.4186 - accuracy: 0.1766 - val_loss: 2.4037 - val_accuracy: 0.1663\n",
      "Epoch 3/25\n",
      "25/25 - 49s - loss: 2.1233 - accuracy: 0.2210 - val_loss: 2.0876 - val_accuracy: 0.2434\n",
      "Epoch 4/25\n",
      "25/25 - 49s - loss: 1.9315 - accuracy: 0.2631 - val_loss: 2.1955 - val_accuracy: 0.2581\n",
      "Epoch 5/25\n",
      "25/25 - 48s - loss: 1.8220 - accuracy: 0.2951 - val_loss: 2.0011 - val_accuracy: 0.2581\n",
      "Epoch 6/25\n",
      "25/25 - 49s - loss: 1.7335 - accuracy: 0.3301 - val_loss: 2.0490 - val_accuracy: 0.2821\n",
      "Epoch 7/25\n",
      "25/25 - 49s - loss: 1.6521 - accuracy: 0.3512 - val_loss: 1.9059 - val_accuracy: 0.2971\n",
      "Epoch 8/25\n",
      "25/25 - 49s - loss: 1.5823 - accuracy: 0.3781 - val_loss: 2.2253 - val_accuracy: 0.2795\n",
      "Epoch 9/25\n",
      "25/25 - 49s - loss: 1.5323 - accuracy: 0.3988 - val_loss: 2.1496 - val_accuracy: 0.3022\n",
      "Epoch 10/25\n",
      "25/25 - 49s - loss: 1.4428 - accuracy: 0.4394 - val_loss: 1.9771 - val_accuracy: 0.3080\n",
      "Epoch 11/25\n",
      "25/25 - 49s - loss: 1.3388 - accuracy: 0.4876 - val_loss: 1.8837 - val_accuracy: 0.3099\n",
      "Epoch 12/25\n",
      "25/25 - 49s - loss: 1.3163 - accuracy: 0.4989 - val_loss: 2.3174 - val_accuracy: 0.2901\n",
      "Epoch 13/25\n",
      "25/25 - 48s - loss: 1.2338 - accuracy: 0.5306 - val_loss: 2.4191 - val_accuracy: 0.2677\n",
      "Epoch 14/25\n",
      "25/25 - 48s - loss: 1.1166 - accuracy: 0.5836 - val_loss: 2.3067 - val_accuracy: 0.2974\n",
      "Epoch 15/25\n",
      "25/25 - 48s - loss: 1.0407 - accuracy: 0.6105 - val_loss: 2.4612 - val_accuracy: 0.3028\n",
      "Epoch 16/25\n",
      "25/25 - 48s - loss: 0.9665 - accuracy: 0.6433 - val_loss: 2.3165 - val_accuracy: 0.2891\n",
      "Epoch 17/25\n",
      "Restoring model weights from the end of the best epoch.\n",
      "25/25 - 48s - loss: 0.9895 - accuracy: 0.6388 - val_loss: 2.6074 - val_accuracy: 0.2853\n",
      "Epoch 00017: early stopping\n"
     ]
    }
   ],
   "source": [
    "x_train_img, y_train = RUL_Model.preprocess_train(train_df)\n",
    "model = RUL_Model.train_model(x_train_img, y_train)\n",
    "model.save('ClassifierV3_AutomatedRetraining.h5')"
   ]
  },
  {
   "cell_type": "markdown",
   "metadata": {},
   "source": [
    "## Compare Predictions to Previously Loaded Model"
   ]
  },
  {
   "cell_type": "code",
   "execution_count": 7,
   "metadata": {},
   "outputs": [
    {
     "name": "stdout",
     "output_type": "stream",
     "text": [
      "Number of predictions: 100\n"
     ]
    },
    {
     "data": {
      "image/png": "[encoded data removed]",
      "text/plain": [
       "<Figure size 504x288 with 1 Axes>"
      ]
     },
     "metadata": {
      "needs_background": "light"
     },
     "output_type": "display_data"
    }
   ],
   "source": [
    "file_number = 1\n",
    "test_df = pd.read_csv('test_FD00{}.txt'.format(file_number), sep=\" \", header=None)\n",
    "test_df = RUL_Model.preprocess_and_predict(test_df, model_filename='ClassifierV3_AutomatedRetraining.h5')\n",
    "predictions = RUL_Model.summarize_predictions_by_unit(test_df)\n",
    "print(\"Number of predictions:\", len(predictions))\n",
    "plot_predictions('RUL_FD00{}.txt'.format(file_number), predictions=predictions)"
   ]
  },
  {
   "cell_type": "code",
   "execution_count": 8,
   "metadata": {},
   "outputs": [
    {
     "name": "stdout",
     "output_type": "stream",
     "text": [
      "Number of predictions: 259\n"
     ]
    },
    {
     "data": {
      "image/png": "[encoded data removed]",
      "text/plain": [
       "<Figure size 504x288 with 1 Axes>"
      ]
     },
     "metadata": {
      "needs_background": "light"
     },
     "output_type": "display_data"
    }
   ],
   "source": [
    "run(2)"
   ]
  },
  {
   "cell_type": "markdown",
   "metadata": {},
   "source": [
    "## Applying Model Predictions to Second Dataset"
   ]
  },
  {
   "cell_type": "code",
   "execution_count": 9,
   "metadata": {},
   "outputs": [
    {
     "name": "stdout",
     "output_type": "stream",
     "text": [
      "WARNING:tensorflow:From /home/jovyan/RUL_Model.py:131: Sequential.predict_classes (from tensorflow.python.keras.engine.sequential) is deprecated and will be removed after 2021-01-01.\n",
      "Instructions for updating:\n",
      "Please use instead:* `np.argmax(model.predict(x), axis=-1)`,   if your model does multi-class classification   (e.g. if it uses a `softmax` last-layer activation).* `(model.predict(x) > 0.5).astype(\"int32\")`,   if your model does binary classification   (e.g. if it uses a `sigmoid` last-layer activation).\n",
      "Number of predictions: 259\n"
     ]
    },
    {
     "data": {
      "image/png": "[encoded data removed]",
      "text/plain": [
       "<Figure size 504x288 with 1 Axes>"
      ]
     },
     "metadata": {
      "needs_background": "light"
     },
     "output_type": "display_data"
    }
   ],
   "source": [
    "file_number = 2\n",
    "test_df = pd.read_csv('test_FD00{}.txt'.format(file_number), sep=\" \", header=None)\n",
    "test_df = RUL_Model.preprocess_and_predict(test_df, model_filename='ClassifierV3_AutomatedRetraining.h5')\n",
    "predictions = RUL_Model.summarize_predictions_by_unit(test_df)\n",
    "print(\"Number of predictions:\", len(predictions))\n",
    "plot_predictions('RUL_FD00{}.txt'.format(file_number), predictions=predictions)"
   ]
  },
  {
   "cell_type": "code",
   "execution_count": 9,
   "metadata": {},
   "outputs": [
    {
     "name": "stdout",
     "output_type": "stream",
     "text": [
      "Number of predictions: 100\n"
     ]
    },
    {
     "data": {
      "image/png": "[encoded data removed]",
      "text/plain": [
       "<Figure size 504x288 with 1 Axes>"
      ]
     },
     "metadata": {
      "needs_background": "light"
     },
     "output_type": "display_data"
    }
   ],
   "source": [
    "run(3)"
   ]
  },
  {
   "cell_type": "code",
   "execution_count": null,
   "metadata": {},
   "outputs": [],
   "source": [
    "file_number = 3\n",
    "test_df = pd.read_csv('test_FD00{}.txt'.format(file_number), sep=\" \", header=None)\n",
    "test_df = RUL_Model.preprocess_and_predict(test_df, model_filename='ClassifierV3_AutomatedRetraining.h5')\n",
    "predictions = RUL_Model.summarize_predictions_by_unit(test_df)\n",
    "print(\"Number of predictions:\", len(predictions))\n",
    "plot_predictions('RUL_FD00{}.txt'.format(file_number), predictions=predictions)"
   ]
  },
  {
   "cell_type": "markdown",
   "metadata": {},
   "source": [
    "## Retrain with Simple Binary Classification"
   ]
  },
  {
   "cell_type": "code",
   "execution_count": 7,
   "metadata": {},
   "outputs": [
    {
     "name": "stdout",
     "output_type": "stream",
     "text": [
      "#id: 100\n",
      "['setting1', 'setting2', 's2', 's3', 's4', 's6', 's7', 's8', 's9', 's11', 's12', 's13', 's14', 's15', 's17', 's20', 's21']\n",
      "Epoch 1/25\n",
      "25/25 - 51s - loss: 0.7641 - accuracy: 0.7131 - val_loss: 0.5283 - val_accuracy: 0.7640\n",
      "Epoch 2/25\n",
      "25/25 - 49s - loss: 0.4523 - accuracy: 0.7400 - val_loss: 0.3282 - val_accuracy: 0.9060\n",
      "Epoch 3/25\n",
      "25/25 - 49s - loss: 0.2179 - accuracy: 0.9235 - val_loss: 0.2052 - val_accuracy: 0.9146\n",
      "Epoch 4/25\n",
      "25/25 - 49s - loss: 0.1714 - accuracy: 0.9403 - val_loss: 0.1937 - val_accuracy: 0.9223\n",
      "Epoch 5/25\n",
      "25/25 - 49s - loss: 0.1550 - accuracy: 0.9448 - val_loss: 0.1773 - val_accuracy: 0.9376\n",
      "Epoch 6/25\n",
      "25/25 - 49s - loss: 0.1441 - accuracy: 0.9499 - val_loss: 0.1765 - val_accuracy: 0.9344\n",
      "Epoch 7/25\n",
      "25/25 - 49s - loss: 0.1345 - accuracy: 0.9552 - val_loss: 0.1713 - val_accuracy: 0.9383\n",
      "Epoch 8/25\n",
      "25/25 - 49s - loss: 0.1288 - accuracy: 0.9576 - val_loss: 0.1796 - val_accuracy: 0.9284\n",
      "Epoch 9/25\n",
      "25/25 - 49s - loss: 0.1194 - accuracy: 0.9614 - val_loss: 0.1665 - val_accuracy: 0.9332\n",
      "Epoch 10/25\n",
      "25/25 - 49s - loss: 0.1091 - accuracy: 0.9672 - val_loss: 0.1627 - val_accuracy: 0.9367\n",
      "Epoch 11/25\n",
      "25/25 - 49s - loss: 0.0989 - accuracy: 0.9738 - val_loss: 0.1627 - val_accuracy: 0.9415\n",
      "Epoch 12/25\n",
      "25/25 - 49s - loss: 0.0961 - accuracy: 0.9730 - val_loss: 0.1556 - val_accuracy: 0.9463\n",
      "Epoch 13/25\n",
      "25/25 - 49s - loss: 0.0807 - accuracy: 0.9822 - val_loss: 0.1552 - val_accuracy: 0.9418\n",
      "Epoch 14/25\n",
      "25/25 - 49s - loss: 0.0683 - accuracy: 0.9872 - val_loss: 0.1560 - val_accuracy: 0.9396\n",
      "Epoch 15/25\n",
      "25/25 - 49s - loss: 0.0626 - accuracy: 0.9898 - val_loss: 0.1640 - val_accuracy: 0.9396\n",
      "Epoch 16/25\n",
      "25/25 - 49s - loss: 0.0589 - accuracy: 0.9905 - val_loss: 0.1671 - val_accuracy: 0.9412\n",
      "Epoch 17/25\n",
      "25/25 - 49s - loss: 0.0580 - accuracy: 0.9914 - val_loss: 0.1936 - val_accuracy: 0.9303\n",
      "Epoch 18/25\n",
      "Restoring model weights from the end of the best epoch.\n",
      "25/25 - 49s - loss: 0.0570 - accuracy: 0.9913 - val_loss: 0.1793 - val_accuracy: 0.9376\n",
      "Epoch 00018: early stopping\n"
     ]
    }
   ],
   "source": [
    "x_train_img, y_train = RUL_Model.preprocess_train(train_df, w = [40])\n",
    "model = RUL_Model.train_model(x_train_img, y_train, w = [40])\n",
    "model.save('ClassifierV3_AutomatedRetraining_SimpleBinary.h5')"
   ]
  },
  {
   "cell_type": "markdown",
   "metadata": {},
   "source": [
    "## Loading additional Data"
   ]
  },
  {
   "cell_type": "code",
   "execution_count": 8,
   "metadata": {},
   "outputs": [
    {
     "data": {
      "text/html": [
       "<div>\n",
       "<style scoped>\n",
       "    .dataframe tbody tr th:only-of-type {\n",
       "        vertical-align: middle;\n",
       "    }\n",
       "\n",
       "    .dataframe tbody tr th {\n",
       "        vertical-align: top;\n",
       "    }\n",
       "\n",
       "    .dataframe thead th {\n",
       "        text-align: right;\n",
       "    }\n",
       "</style>\n",
       "<table border=\"1\" class=\"dataframe\">\n",
       "  <thead>\n",
       "    <tr style=\"text-align: right;\">\n",
       "      <th></th>\n",
       "      <th>id</th>\n",
       "      <th>cycle</th>\n",
       "      <th>setting1</th>\n",
       "      <th>setting2</th>\n",
       "      <th>setting3</th>\n",
       "      <th>s1</th>\n",
       "      <th>s2</th>\n",
       "      <th>s3</th>\n",
       "      <th>s4</th>\n",
       "      <th>s5</th>\n",
       "      <th>...</th>\n",
       "      <th>s12</th>\n",
       "      <th>s13</th>\n",
       "      <th>s14</th>\n",
       "      <th>s15</th>\n",
       "      <th>s16</th>\n",
       "      <th>s17</th>\n",
       "      <th>s18</th>\n",
       "      <th>s19</th>\n",
       "      <th>s20</th>\n",
       "      <th>s21</th>\n",
       "    </tr>\n",
       "  </thead>\n",
       "  <tbody>\n",
       "    <tr>\n",
       "      <th>0</th>\n",
       "      <td>1</td>\n",
       "      <td>1</td>\n",
       "      <td>-0.0007</td>\n",
       "      <td>-0.0004</td>\n",
       "      <td>100.0</td>\n",
       "      <td>518.67</td>\n",
       "      <td>641.82</td>\n",
       "      <td>1589.70</td>\n",
       "      <td>1400.60</td>\n",
       "      <td>14.62</td>\n",
       "      <td>...</td>\n",
       "      <td>521.66</td>\n",
       "      <td>2388.02</td>\n",
       "      <td>8138.62</td>\n",
       "      <td>8.4195</td>\n",
       "      <td>0.03</td>\n",
       "      <td>392</td>\n",
       "      <td>2388</td>\n",
       "      <td>100.0</td>\n",
       "      <td>39.06</td>\n",
       "      <td>23.4190</td>\n",
       "    </tr>\n",
       "    <tr>\n",
       "      <th>1</th>\n",
       "      <td>1</td>\n",
       "      <td>2</td>\n",
       "      <td>0.0019</td>\n",
       "      <td>-0.0003</td>\n",
       "      <td>100.0</td>\n",
       "      <td>518.67</td>\n",
       "      <td>642.15</td>\n",
       "      <td>1591.82</td>\n",
       "      <td>1403.14</td>\n",
       "      <td>14.62</td>\n",
       "      <td>...</td>\n",
       "      <td>522.28</td>\n",
       "      <td>2388.07</td>\n",
       "      <td>8131.49</td>\n",
       "      <td>8.4318</td>\n",
       "      <td>0.03</td>\n",
       "      <td>392</td>\n",
       "      <td>2388</td>\n",
       "      <td>100.0</td>\n",
       "      <td>39.00</td>\n",
       "      <td>23.4236</td>\n",
       "    </tr>\n",
       "    <tr>\n",
       "      <th>2</th>\n",
       "      <td>1</td>\n",
       "      <td>3</td>\n",
       "      <td>-0.0043</td>\n",
       "      <td>0.0003</td>\n",
       "      <td>100.0</td>\n",
       "      <td>518.67</td>\n",
       "      <td>642.35</td>\n",
       "      <td>1587.99</td>\n",
       "      <td>1404.20</td>\n",
       "      <td>14.62</td>\n",
       "      <td>...</td>\n",
       "      <td>522.42</td>\n",
       "      <td>2388.03</td>\n",
       "      <td>8133.23</td>\n",
       "      <td>8.4178</td>\n",
       "      <td>0.03</td>\n",
       "      <td>390</td>\n",
       "      <td>2388</td>\n",
       "      <td>100.0</td>\n",
       "      <td>38.95</td>\n",
       "      <td>23.3442</td>\n",
       "    </tr>\n",
       "    <tr>\n",
       "      <th>3</th>\n",
       "      <td>1</td>\n",
       "      <td>4</td>\n",
       "      <td>0.0007</td>\n",
       "      <td>0.0000</td>\n",
       "      <td>100.0</td>\n",
       "      <td>518.67</td>\n",
       "      <td>642.35</td>\n",
       "      <td>1582.79</td>\n",
       "      <td>1401.87</td>\n",
       "      <td>14.62</td>\n",
       "      <td>...</td>\n",
       "      <td>522.86</td>\n",
       "      <td>2388.08</td>\n",
       "      <td>8133.83</td>\n",
       "      <td>8.3682</td>\n",
       "      <td>0.03</td>\n",
       "      <td>392</td>\n",
       "      <td>2388</td>\n",
       "      <td>100.0</td>\n",
       "      <td>38.88</td>\n",
       "      <td>23.3739</td>\n",
       "    </tr>\n",
       "    <tr>\n",
       "      <th>4</th>\n",
       "      <td>1</td>\n",
       "      <td>5</td>\n",
       "      <td>-0.0019</td>\n",
       "      <td>-0.0002</td>\n",
       "      <td>100.0</td>\n",
       "      <td>518.67</td>\n",
       "      <td>642.37</td>\n",
       "      <td>1582.85</td>\n",
       "      <td>1406.22</td>\n",
       "      <td>14.62</td>\n",
       "      <td>...</td>\n",
       "      <td>522.19</td>\n",
       "      <td>2388.04</td>\n",
       "      <td>8133.80</td>\n",
       "      <td>8.4294</td>\n",
       "      <td>0.03</td>\n",
       "      <td>393</td>\n",
       "      <td>2388</td>\n",
       "      <td>100.0</td>\n",
       "      <td>38.90</td>\n",
       "      <td>23.4044</td>\n",
       "    </tr>\n",
       "  </tbody>\n",
       "</table>\n",
       "<p>5 rows × 26 columns</p>\n",
       "</div>"
      ],
      "text/plain": [
       "   id  cycle  setting1  setting2  setting3      s1      s2       s3       s4  \\\n",
       "0   1      1   -0.0007   -0.0004     100.0  518.67  641.82  1589.70  1400.60   \n",
       "1   1      2    0.0019   -0.0003     100.0  518.67  642.15  1591.82  1403.14   \n",
       "2   1      3   -0.0043    0.0003     100.0  518.67  642.35  1587.99  1404.20   \n",
       "3   1      4    0.0007    0.0000     100.0  518.67  642.35  1582.79  1401.87   \n",
       "4   1      5   -0.0019   -0.0002     100.0  518.67  642.37  1582.85  1406.22   \n",
       "\n",
       "      s5  ...     s12      s13      s14     s15   s16  s17   s18    s19  \\\n",
       "0  14.62  ...  521.66  2388.02  8138.62  8.4195  0.03  392  2388  100.0   \n",
       "1  14.62  ...  522.28  2388.07  8131.49  8.4318  0.03  392  2388  100.0   \n",
       "2  14.62  ...  522.42  2388.03  8133.23  8.4178  0.03  390  2388  100.0   \n",
       "3  14.62  ...  522.86  2388.08  8133.83  8.3682  0.03  392  2388  100.0   \n",
       "4  14.62  ...  522.19  2388.04  8133.80  8.4294  0.03  393  2388  100.0   \n",
       "\n",
       "     s20      s21  \n",
       "0  39.06  23.4190  \n",
       "1  39.00  23.4236  \n",
       "2  38.95  23.3442  \n",
       "3  38.88  23.3739  \n",
       "4  38.90  23.4044  \n",
       "\n",
       "[5 rows x 26 columns]"
      ]
     },
     "execution_count": 8,
     "metadata": {},
     "output_type": "execute_result"
    }
   ],
   "source": [
    "train_df = .head()"
   ]
  },
  {
   "cell_type": "markdown",
   "metadata": {},
   "source": [
    "### Subsetting to first n cycles"
   ]
  },
  {
   "cell_type": "code",
   "execution_count": null,
   "metadata": {},
   "outputs": [],
   "source": []
  },
  {
   "cell_type": "markdown",
   "metadata": {},
   "source": [
    "## Automated Retraining Using Additional Realtime Data"
   ]
  },
  {
   "cell_type": "code",
   "execution_count": null,
   "metadata": {},
   "outputs": [],
   "source": []
  },
  {
   "cell_type": "code",
   "execution_count": 9,
   "metadata": {},
   "outputs": [
    {
     "name": "stdout",
     "output_type": "stream",
     "text": [
      "<class 'pandas.core.frame.DataFrame'>\n",
      "RangeIndex: 20631 entries, 0 to 20630\n",
      "Data columns (total 26 columns):\n",
      " #   Column    Non-Null Count  Dtype  \n",
      "---  ------    --------------  -----  \n",
      " 0   id        20631 non-null  int64  \n",
      " 1   cycle     20631 non-null  int64  \n",
      " 2   setting1  20631 non-null  float64\n",
      " 3   setting2  20631 non-null  float64\n",
      " 4   setting3  20631 non-null  float64\n",
      " 5   s1        20631 non-null  float64\n",
      " 6   s2        20631 non-null  float64\n",
      " 7   s3        20631 non-null  float64\n",
      " 8   s4        20631 non-null  float64\n",
      " 9   s5        20631 non-null  float64\n",
      " 10  s6        20631 non-null  float64\n",
      " 11  s7        20631 non-null  float64\n",
      " 12  s8        20631 non-null  float64\n",
      " 13  s9        20631 non-null  float64\n",
      " 14  s10       20631 non-null  float64\n",
      " 15  s11       20631 non-null  float64\n",
      " 16  s12       20631 non-null  float64\n",
      " 17  s13       20631 non-null  float64\n",
      " 18  s14       20631 non-null  float64\n",
      " 19  s15       20631 non-null  float64\n",
      " 20  s16       20631 non-null  float64\n",
      " 21  s17       20631 non-null  int64  \n",
      " 22  s18       20631 non-null  int64  \n",
      " 23  s19       20631 non-null  float64\n",
      " 24  s20       20631 non-null  float64\n",
      " 25  s21       20631 non-null  float64\n",
      "dtypes: float64(22), int64(4)\n",
      "memory usage: 4.1 MB\n"
     ]
    }
   ],
   "source": [
    "train_df.info()"
   ]
  },
  {
   "cell_type": "code",
   "execution_count": 10,
   "metadata": {},
   "outputs": [],
   "source": [
    "train_df.to_csv(\"Train001_Reformated.csv\", index=False)"
   ]
  },
  {
   "cell_type": "markdown",
   "metadata": {},
   "source": [
    "## Plot Predicitons"
   ]
  },
  {
   "cell_type": "code",
   "execution_count": null,
   "metadata": {},
   "outputs": [],
   "source": []
  },
  {
   "cell_type": "code",
   "execution_count": 10,
   "metadata": {},
   "outputs": [
    {
     "name": "stdout",
     "output_type": "stream",
     "text": [
      "Number of predictions: 248\n"
     ]
    },
    {
     "data": {
      "image/png": "[encoded data removed]",
      "text/plain": [
       "<Figure size 504x288 with 1 Axes>"
      ]
     },
     "metadata": {
      "needs_background": "light"
     },
     "output_type": "display_data"
    }
   ],
   "source": [
    "run(4)"
   ]
  },
  {
   "cell_type": "code",
   "execution_count": 11,
   "metadata": {},
   "outputs": [],
   "source": [
    "model = RUL_Model.model"
   ]
  },
  {
   "cell_type": "code",
   "execution_count": 14,
   "metadata": {},
   "outputs": [
    {
     "data": {
      "text/plain": [
       "[<tensorflow.python.keras.metrics.Mean at 0x7f0fa8573370>,\n",
       " <tensorflow.python.keras.metrics.MeanMetricWrapper at 0x7f0fa8573fd0>]"
      ]
     },
     "execution_count": 14,
     "metadata": {},
     "output_type": "execute_result"
    }
   ],
   "source": [
    "model.metrics"
   ]
  },
  {
   "cell_type": "code",
   "execution_count": 19,
   "metadata": {},
   "outputs": [
    {
     "data": {
      "text/html": [
       "<div>\n",
       "<style scoped>\n",
       "    .dataframe tbody tr th:only-of-type {\n",
       "        vertical-align: middle;\n",
       "    }\n",
       "\n",
       "    .dataframe tbody tr th {\n",
       "        vertical-align: top;\n",
       "    }\n",
       "\n",
       "    .dataframe thead th {\n",
       "        text-align: right;\n",
       "    }\n",
       "</style>\n",
       "<table border=\"1\" class=\"dataframe\">\n",
       "  <thead>\n",
       "    <tr style=\"text-align: right;\">\n",
       "      <th></th>\n",
       "      <th>True</th>\n",
       "      <th>Predicted</th>\n",
       "    </tr>\n",
       "  </thead>\n",
       "  <tbody>\n",
       "    <tr>\n",
       "      <th>0</th>\n",
       "      <td>18</td>\n",
       "      <td>138.0</td>\n",
       "    </tr>\n",
       "    <tr>\n",
       "      <th>1</th>\n",
       "      <td>79</td>\n",
       "      <td>138.0</td>\n",
       "    </tr>\n",
       "    <tr>\n",
       "      <th>2</th>\n",
       "      <td>106</td>\n",
       "      <td>138.0</td>\n",
       "    </tr>\n",
       "    <tr>\n",
       "      <th>3</th>\n",
       "      <td>110</td>\n",
       "      <td>138.0</td>\n",
       "    </tr>\n",
       "    <tr>\n",
       "      <th>4</th>\n",
       "      <td>15</td>\n",
       "      <td>138.0</td>\n",
       "    </tr>\n",
       "  </tbody>\n",
       "</table>\n",
       "</div>"
      ],
      "text/plain": [
       "   True  Predicted\n",
       "0    18      138.0\n",
       "1    79      138.0\n",
       "2   106      138.0\n",
       "3   110      138.0\n",
       "4    15      138.0"
      ]
     },
     "execution_count": 19,
     "metadata": {},
     "output_type": "execute_result"
    }
   ],
   "source": [
    "#file_number = 2\n",
    "#test_df = pd.read_csv('test_FD00{}.txt'.format(file_number), sep=\" \", header=None)\n",
    "#test_df = RUL_Model.preprocess_and_predict(test_df)\n",
    "#predictions = RUL_Model.summarize_predictions_by_unit(test_df)\n",
    "\n",
    "rul_filename = 'RUL_FD00{}.txt'.format(file_number)\n",
    "rul_true = pd.read_csv(rul_filename, sep=\" \", header=None)\n",
    "rul_true.columns = ['True', '']\n",
    "rul_true['Predicted'] = predictions\n",
    "rul_true = rul_true[['True', 'Predicted']]\n",
    "\n",
    "rul_true.head()"
   ]
  },
  {
   "cell_type": "code",
   "execution_count": 20,
   "metadata": {},
   "outputs": [],
   "source": [
    "w = [200,175,150,125,100,75,50,40,30,25,20,15,10,5] #Bin definitions associated with current models"
   ]
  },
  {
   "cell_type": "markdown",
   "metadata": {},
   "source": [
    "### Scores for Test File 1"
   ]
  },
  {
   "cell_type": "code",
   "execution_count": 30,
   "metadata": {},
   "outputs": [
    {
     "name": "stdout",
     "output_type": "stream",
     "text": [
      "recall_score: 0.16\n",
      "precision_score: 0.13333333333333333\n",
      "f1_score: 0.12041056394879483\n"
     ]
    }
   ],
   "source": [
    "file_number = 1\n",
    "test_df = pd.read_csv('test_FD00{}.txt'.format(file_number), sep=\" \", header=None)\n",
    "test_df = RUL_Model.preprocess_and_predict(test_df)\n",
    "predictions = RUL_Model.summarize_predictions_by_unit(test_df)\n",
    "\n",
    "rul_filename = 'RUL_FD00{}.txt'.format(file_number)\n",
    "rul_true = pd.read_csv(rul_filename, sep=\" \", header=None)\n",
    "rul_true.columns = ['True', '']\n",
    "rul_true['Predicted'] = predictions\n",
    "rul_true = rul_true[['True', 'Predicted']]\n",
    "\n",
    "rul_true['True_label'] = np.where(rul_true['True'] <= w[0], 1, 0 )\n",
    "for i in range(1,len(w)):\n",
    "    rul_true.loc[rul_true['True'] <= w[i], 'True_label'] = i+1\n",
    "    \n",
    "rul_true['Predicted_label'] = np.where(rul_true['Predicted'] <= w[0], 1, 0 )\n",
    "for i in range(1,len(w)):\n",
    "    rul_true.loc[rul_true['Predicted'] <= w[i], 'Predicted_label'] = i+1\n",
    "    \n",
    "print(\"recall_score:\", recall_score(rul_true['True_label'], rul_true['Predicted_label'], average=\"weighted\"))\n",
    "print(\"precision_score:\", precision_score(rul_true['True_label'], rul_true['Predicted_label'], average=\"weighted\"))\n",
    "print(\"f1_score:\", f1_score(rul_true['True_label'], rul_true['Predicted_label'], average=\"weighted\"))"
   ]
  },
  {
   "cell_type": "markdown",
   "metadata": {},
   "source": [
    "### Scores for Test File 2"
   ]
  },
  {
   "cell_type": "code",
   "execution_count": 29,
   "metadata": {},
   "outputs": [
    {
     "name": "stdout",
     "output_type": "stream",
     "text": [
      "recall_score: 0.07722007722007722\n",
      "precision_score: 0.03233443141700022\n",
      "f1_score: 0.025080795395704007\n"
     ]
    }
   ],
   "source": [
    "file_number = 2\n",
    "test_df = pd.read_csv('test_FD00{}.txt'.format(file_number), sep=\" \", header=None)\n",
    "test_df = RUL_Model.preprocess_and_predict(test_df)\n",
    "predictions = RUL_Model.summarize_predictions_by_unit(test_df)\n",
    "\n",
    "rul_filename = 'RUL_FD00{}.txt'.format(file_number)\n",
    "rul_true = pd.read_csv(rul_filename, sep=\" \", header=None)\n",
    "rul_true.columns = ['True', '']\n",
    "rul_true['Predicted'] = predictions\n",
    "rul_true = rul_true[['True', 'Predicted']]\n",
    "\n",
    "rul_true['True_label'] = np.where(rul_true['True'] <= w[0], 1, 0 )\n",
    "for i in range(1,len(w)):\n",
    "    rul_true.loc[rul_true['True'] <= w[i], 'True_label'] = i+1\n",
    "    \n",
    "rul_true['Predicted_label'] = np.where(rul_true['Predicted'] <= w[0], 1, 0 )\n",
    "for i in range(1,len(w)):\n",
    "    rul_true.loc[rul_true['Predicted'] <= w[i], 'Predicted_label'] = i+1\n",
    "    \n",
    "print(\"recall_score:\", recall_score(rul_true['True_label'], rul_true['Predicted_label'], average=\"weighted\"))\n",
    "print(\"precision_score:\", precision_score(rul_true['True_label'], rul_true['Predicted_label'], average=\"weighted\"))\n",
    "print(\"f1_score:\", f1_score(rul_true['True_label'], rul_true['Predicted_label'], average=\"weighted\"))"
   ]
  },
  {
   "cell_type": "markdown",
   "metadata": {},
   "source": [
    "## Scores For Test File 3"
   ]
  },
  {
   "cell_type": "code",
   "execution_count": 31,
   "metadata": {},
   "outputs": [
    {
     "name": "stdout",
     "output_type": "stream",
     "text": [
      "recall_score: 0.1\n",
      "precision_score: 0.16527272727272727\n",
      "f1_score: 0.12072321356804114\n"
     ]
    }
   ],
   "source": [
    "file_number = 3\n",
    "test_df = pd.read_csv('test_FD00{}.txt'.format(file_number), sep=\" \", header=None)\n",
    "test_df = RUL_Model.preprocess_and_predict(test_df)\n",
    "predictions = RUL_Model.summarize_predictions_by_unit(test_df)\n",
    "\n",
    "rul_filename = 'RUL_FD00{}.txt'.format(file_number)\n",
    "rul_true = pd.read_csv(rul_filename, sep=\" \", header=None)\n",
    "rul_true.columns = ['True', '']\n",
    "rul_true['Predicted'] = predictions\n",
    "rul_true = rul_true[['True', 'Predicted']]\n",
    "\n",
    "rul_true['True_label'] = np.where(rul_true['True'] <= w[0], 1, 0 )\n",
    "for i in range(1,len(w)):\n",
    "    rul_true.loc[rul_true['True'] <= w[i], 'True_label'] = i+1\n",
    "    \n",
    "rul_true['Predicted_label'] = np.where(rul_true['Predicted'] <= w[0], 1, 0 )\n",
    "for i in range(1,len(w)):\n",
    "    rul_true.loc[rul_true['Predicted'] <= w[i], 'Predicted_label'] = i+1\n",
    "    \n",
    "print(\"recall_score:\", recall_score(rul_true['True_label'], rul_true['Predicted_label'], average=\"weighted\"))\n",
    "print(\"precision_score:\", precision_score(rul_true['True_label'], rul_true['Predicted_label'], average=\"weighted\"))\n",
    "print(\"f1_score:\", f1_score(rul_true['True_label'], rul_true['Predicted_label'], average=\"weighted\"))"
   ]
  },
  {
   "cell_type": "markdown",
   "metadata": {},
   "source": [
    "### Scores for Test Number 4"
   ]
  },
  {
   "cell_type": "code",
   "execution_count": 32,
   "metadata": {},
   "outputs": [
    {
     "name": "stdout",
     "output_type": "stream",
     "text": [
      "recall_score: 0.09274193548387097\n",
      "precision_score: 0.012642200405173757\n",
      "f1_score: 0.021727573120460638\n"
     ]
    }
   ],
   "source": [
    "file_number = 4\n",
    "test_df = pd.read_csv('test_FD00{}.txt'.format(file_number), sep=\" \", header=None)\n",
    "test_df = RUL_Model.preprocess_and_predict(test_df)\n",
    "predictions = RUL_Model.summarize_predictions_by_unit(test_df)\n",
    "\n",
    "rul_filename = 'RUL_FD00{}.txt'.format(file_number)\n",
    "rul_true = pd.read_csv(rul_filename, sep=\" \", header=None)\n",
    "rul_true.columns = ['True', '']\n",
    "rul_true['Predicted'] = predictions\n",
    "rul_true = rul_true[['True', 'Predicted']]\n",
    "\n",
    "rul_true['True_label'] = np.where(rul_true['True'] <= w[0], 1, 0 )\n",
    "for i in range(1,len(w)):\n",
    "    rul_true.loc[rul_true['True'] <= w[i], 'True_label'] = i+1\n",
    "    \n",
    "rul_true['Predicted_label'] = np.where(rul_true['Predicted'] <= w[0], 1, 0 )\n",
    "for i in range(1,len(w)):\n",
    "    rul_true.loc[rul_true['Predicted'] <= w[i], 'Predicted_label'] = i+1\n",
    "    \n",
    "print(\"recall_score:\", recall_score(rul_true['True_label'], rul_true['Predicted_label'], average=\"weighted\"))\n",
    "print(\"precision_score:\", precision_score(rul_true['True_label'], rul_true['Predicted_label'], average=\"weighted\"))\n",
    "print(\"f1_score:\", f1_score(rul_true['True_label'], rul_true['Predicted_label'], average=\"weighted\"))"
   ]
  },
  {
   "cell_type": "markdown",
   "metadata": {},
   "source": [
    "### Outline:\n",
    "\n",
    "1. Iterater Over Future Train Data for first n cycles:\n",
    "    1. Through cycle 50, pause generate predictions\n",
    "    2. Over the next 50 cycles, calculate model drift between predictions from above and what came to be.\n",
    "        * Assumptions: mechanics can determine whether motor needed service during maintenance for motors flagged\n",
    "        * This will be used to determine precision and model drift\n",
    "        \n",
    "        * !!! Warning:  Any motors not flagged that fail in the next n cycles will affect the recall score, and must trigger an immediate model retuning. This Drift is unacceptable!\n",
    "        \n",
    "\n",
    "If Recall score ever falls below 1: Immediate retraining and [Jira ticket] (Phase 1.5 tbd)\n",
    "If precision falls below .8 or .9? then wasted resources, and also retraining needed\n",
    "Alternatively, precision can be tracked as a cost score based on total maintenance cost"
   ]
  },
  {
   "cell_type": "markdown",
   "metadata": {},
   "source": [
    "# Agenda Items\n",
    "\n",
    "## Day One / Phase 1\n",
    "1. Introduction to Model Drift (1 hour)\n",
    "    1. Concept Drift\n",
    "    2. Data Drift\n",
    "2. Databricks Introduction (1 hour)\n",
    "    1. MlFlow\n",
    "3. ModelOps Introduction (could be moved elsewhere)\n",
    "    1. Camunda?\n",
    "    2. Jira\n",
    "4. Returning to Turbofan engine degradation\n",
    "    1. Differences in the Train / Test Files (See Readme [here](https://github.com/Information-International-Associates/Data-Challenge-3/tree/master/Data))\n",
    "    2. This represents a concept drift\n",
    "5. Applying Model Drift to Our RUL Model\n",
    "    1. Metric Brainstrom for Model Drift\n",
    "        1. Precision\n",
    "        2. Recall\n",
    "        3. F1\n",
    "        4. Wasted Maintenance Cost\n",
    "        5. Others....generate additional ideas from participants\n",
    "        \n",
    "## Day Two / Phase 1.5 - Implementing Model Drift In Vendor Platforms\n",
    "\n",
    "2. Databricks Introduction (1 hour)\n",
    "    1. MlFlow\n",
    "3. ModelOps Introduction (could be moved elsewhere)\n",
    "    1. Camunda?\n",
    "    2. Jira\n",
    "\n",
    "## Day Three / Phase 2\n",
    "\n"
   ]
  },
  {
   "cell_type": "markdown",
   "metadata": {},
   "source": [
    "## To Do\n",
    "\n",
    "Sumit:\n",
    "* Outreach ModelOps Matt contact on needs for ModelOps; precision/recall scores\n",
    "* Theoretical introduction / slides on ModelDrift\n",
    "\n",
    "Matt:\n",
    "* Cleaning up model training\n",
    "    1. clean up API to streamline retraining\n",
    "    2. reduce to binary classification\n",
    "* Simulate outline above:\n",
    "    1. run model (which was trained on training set 1 ONLY) on first 50 cycles of every unit train 2\n",
    "        1. generate predictions\n",
    "        2. calculate metrics\n",
    "            > Determine if model drifted (probably will based on exploratory results above)\n",
    "            > Implement retraining\n",
    "            > "
   ]
  },
  {
   "cell_type": "code",
   "execution_count": null,
   "metadata": {},
   "outputs": [],
   "source": [
    "Productionalizing Model Deployment / "
   ]
  }
 ],
 "metadata": {
  "kernelspec": {
   "display_name": "Python 3",
   "language": "python",
   "name": "python3"
  },
  "language_info": {
   "codemirror_mode": {
    "name": "ipython",
    "version": 3
   },
   "file_extension": ".py",
   "mimetype": "text/x-python",
   "name": "python",
   "nbconvert_exporter": "python",
   "pygments_lexer": "ipython3",
   "version": "3.8.6"
  }
 },
 "nbformat": 4,
 "nbformat_minor": 4
}
